{
 "cells": [
  {
   "cell_type": "markdown",
   "id": "4b95a238",
   "metadata": {},
   "source": [
    "# Day 1 of 30 DayLearningTarget \n"
   ]
  },
  {
   "cell_type": "markdown",
   "id": "ba01401a",
   "metadata": {},
   "source": [
    "## 1. Downloading OpenStreetMap Data Using leafmap"
   ]
  },
  {
   "cell_type": "markdown",
   "id": "2ab4402d",
   "metadata": {},
   "source": [
    " OpenStreetMap is a map of the world, created by people like you and free to use under an open license.Hosted and  supported by UCL, Fastly, Bytemark Hosting, and other partners.  \n",
    "Reference:[OpenStreetMap](https://www.openstreetmap.org/)\n",
    "\n",
    "Leafmap is a Python package for interactive mapping and geospatial analysis in  a Jupyter environment.It  enables users to analyze and visualize geospatial data in python environments  such as Google Colab, Jupyter Notebook, and JupyterLab.\n",
    "\n",
    "Leafmap was developed by [Dr. Qiusheng Wu](https://geography.utk.edu/about-us/faculty/dr-qiusheng-wu/) upon several open-source packages, such as folium and ipyleaflet (for creating interactive maps), WhiteboxTools and whiteboxgui (for analyzing geospatial data), and ipywidgets (for designing interactive graphical user interface).\n",
    "\n",
    "More about Leafmap can be Found Here [Leafmap](https://leafmap.org/)"
   ]
  },
  {
   "cell_type": "markdown",
   "id": "98ae9846",
   "metadata": {},
   "source": [
    "### Lets get started!!"
   ]
  },
  {
   "cell_type": "markdown",
   "id": "40a84d4e",
   "metadata": {},
   "source": [
    "For this tutorial I have used  [Anaconda Distribution](https://www.anaconda.com/products/individual/get-started) and [Windows](https://www.microsoft.com/en-us/software-download/windows10) as Operating System.\n",
    "Once you have anaconda Installed:\n",
    "####  You Need to create a Virtual Environment within your OS as follows\n",
    "\n",
    "   - `1. conda create -n BometGIS python=3.9`\n",
    "   - `2. conda activate BometGIS`\n",
    "   - `3. conda install geopandas`\n",
    "   - `4. conda install osmnx`\n",
    "   - `5. conda install Leafmap`"
   ]
  },
  {
   "cell_type": "markdown",
   "id": "c08219bb",
   "metadata": {},
   "source": [
    "#### Once we have installed the libraries we need to Import Leafmap"
   ]
  },
  {
   "cell_type": "code",
   "execution_count": 1,
   "id": "c2e26f75",
   "metadata": {},
   "outputs": [],
   "source": [
    "import leafmap"
   ]
  },
  {
   "cell_type": "markdown",
   "id": "fb0e8a2b",
   "metadata": {},
   "source": [
    " **OSM is rich of data  indexed very nicely either by name or ID . So we can add  this OSM data of  any place(s) on earth  by name or ID to the map.**\n",
    "\n",
    "### Lets Create an interactive Map \n",
    "##### Add  [Bomet County](https://en.wikipedia.org/wiki/Bomet_County) OpenStreemap Data"
   ]
  },
  {
   "cell_type": "code",
   "execution_count": 2,
   "id": "0a1c6486",
   "metadata": {},
   "outputs": [
    {
     "data": {
      "application/vnd.jupyter.widget-view+json": {
       "model_id": "44b8c6b84db643e894240a56fe25edd0",
       "version_major": 2,
       "version_minor": 0
      },
      "text/plain": [
       "Map(center=[20, 0], controls=(ZoomControl(options=['position', 'zoom_in_text', 'zoom_in_title', 'zoom_out_text…"
      ]
     },
     "metadata": {},
     "output_type": "display_data"
    }
   ],
   "source": [
    "Bomet = leafmap.Map(toolbar_control=False, layers_control=True)\n",
    "Bomet.add_osm_from_geocode(\"Bomet\", layer_name='BMT')\n",
    "Bomet"
   ]
  },
  {
   "cell_type": "markdown",
   "id": "1c42dccf",
   "metadata": {},
   "source": [
    "### We Add OSM entities within boundaries of geocodable place(s) to the map.\n",
    "***For example  we add Bomet Municipal Building to the Map using its geocoded tag***"
   ]
  },
  {
   "cell_type": "code",
   "execution_count": 3,
   "id": "ef693ea2",
   "metadata": {},
   "outputs": [
    {
     "data": {
      "application/vnd.jupyter.widget-view+json": {
       "model_id": "ee5cf0b0fa5840e2ba8b0b4b96a76b07",
       "version_major": 2,
       "version_minor": 0
      },
      "text/plain": [
       "Map(center=[20, 0], controls=(ZoomControl(options=['position', 'zoom_in_text', 'zoom_in_title', 'zoom_out_text…"
      ]
     },
     "metadata": {},
     "output_type": "display_data"
    }
   ],
   "source": [
    "BometBuildings = leafmap.Map(toolbar_control=False, layers_control=True)\n",
    "place = \"Bomet Municipal Council Bldg \"\n",
    "tags = {\"building\": True}\n",
    "BometBuildings.add_osm_from_place(place, tags, layer_name=\"Municipal, Bomet\")\n",
    "BometBuildings"
   ]
  },
  {
   "cell_type": "markdown",
   "id": "26b52748",
   "metadata": {},
   "source": [
    "#### More about OSM feature tags.\n",
    "\n",
    "https://wiki.openstreetmap.org/wiki/Map_features\n",
    "\n",
    "You can directly run this code in your jupyter cell \n",
    "\n",
    " - `leafmap.osm_tags_list()`"
   ]
  },
  {
   "cell_type": "markdown",
   "id": "dd2bc37a",
   "metadata": {},
   "source": [
    "### We can Add OSM entities within some distance N,S,W,E of address to the map. \n",
    " ###   - `For Example we can get Restaurants within 5000M in Kericho Town Kenya  as shown below` "
   ]
  },
  {
   "cell_type": "code",
   "execution_count": 4,
   "id": "e59f9cc2",
   "metadata": {},
   "outputs": [
    {
     "name": "stderr",
     "output_type": "stream",
     "text": [
      "C:\\Users\\Koros\\anaconda3\\envs\\KGIS\\lib\\site-packages\\ipywidgets\\widgets\\widget.py:412: DeprecationWarning: Passing unrecognized arguments to super(Map).__init__(toolbar_control=False, layers_control=True).\n",
      "object.__init__() takes exactly one argument (the instance to initialize)\n",
      "This is deprecated in traitlets 4.2.This error will be raised in a future release of traitlets.\n",
      "  super(Widget, self).__init__(**kwargs)\n",
      "C:\\Users\\Koros\\anaconda3\\envs\\KGIS\\lib\\site-packages\\geopandas\\_vectorized.py:142: DeprecationWarning: An exception was ignored while fetching the attribute `__array_interface__` from an object of type 'Polygon'.  With the exception of `AttributeError` NumPy will always raise this exception in the future.  Raise this deprecation warning to see the original exception. (Warning added NumPy 1.21)\n",
      "  aout[:] = out\n",
      "C:\\Users\\Koros\\anaconda3\\envs\\KGIS\\lib\\site-packages\\geopandas\\_vectorized.py:142: DeprecationWarning: An exception was ignored while fetching the attribute `__array_interface__` from an object of type 'MultiPolygon'.  With the exception of `AttributeError` NumPy will always raise this exception in the future.  Raise this deprecation warning to see the original exception. (Warning added NumPy 1.21)\n",
      "  aout[:] = out\n"
     ]
    },
    {
     "data": {
      "application/vnd.jupyter.widget-view+json": {
       "model_id": "fbf1fc01282e47cfb5313569ec19c894",
       "version_major": 2,
       "version_minor": 0
      },
      "text/plain": [
       "Map(center=[20, 0], controls=(ZoomControl(options=['position', 'zoom_in_text', 'zoom_in_title', 'zoom_out_text…"
      ]
     },
     "metadata": {},
     "output_type": "display_data"
    }
   ],
   "source": [
    "Kericho = leafmap.Map(toolbar_control=False, layers_control=True)\n",
    "Kericho.add_osm_from_address(\n",
    "    address=\"Kericho\", \n",
    "    tags={\"amenity\": \"restaurant\"}, \n",
    "    dist=5000,\n",
    "    layer_name=\"Kco Restaurants\")\n",
    "Kericho"
   ]
  },
  {
   "cell_type": "markdown",
   "id": "3ec1eacf",
   "metadata": {},
   "source": [
    "### We can then convert the osm data to geopandas dataframe for further insights "
   ]
  },
  {
   "cell_type": "code",
   "execution_count": 6,
   "id": "a28a9f67",
   "metadata": {},
   "outputs": [
    {
     "name": "stderr",
     "output_type": "stream",
     "text": [
      "C:\\Users\\Koros\\anaconda3\\envs\\KGIS\\lib\\site-packages\\geopandas\\_vectorized.py:142: DeprecationWarning: An exception was ignored while fetching the attribute `__array_interface__` from an object of type 'Polygon'.  With the exception of `AttributeError` NumPy will always raise this exception in the future.  Raise this deprecation warning to see the original exception. (Warning added NumPy 1.21)\n",
      "  aout[:] = out\n",
      "C:\\Users\\Koros\\anaconda3\\envs\\KGIS\\lib\\site-packages\\osmnx\\geocoder.py:110: FutureWarning: The frame.append method is deprecated and will be removed from pandas in a future version. Use pandas.concat instead.\n",
      "  gdf = gdf.append(_geocode_query_to_gdf(q, wr, by_osmid))\n",
      "C:\\Users\\Koros\\anaconda3\\envs\\KGIS\\lib\\site-packages\\geopandas\\_vectorized.py:142: DeprecationWarning: An exception was ignored while fetching the attribute `__array_interface__` from an object of type 'Polygon'.  With the exception of `AttributeError` NumPy will always raise this exception in the future.  Raise this deprecation warning to see the original exception. (Warning added NumPy 1.21)\n",
      "  aout[:] = out\n",
      "C:\\Users\\Koros\\anaconda3\\envs\\KGIS\\lib\\site-packages\\geopandas\\_vectorized.py:142: DeprecationWarning: An exception was ignored while fetching the attribute `__array_interface__` from an object of type 'MultiPolygon'.  With the exception of `AttributeError` NumPy will always raise this exception in the future.  Raise this deprecation warning to see the original exception. (Warning added NumPy 1.21)\n",
      "  aout[:] = out\n"
     ]
    },
    {
     "data": {
      "text/html": [
       "<div>\n",
       "<style scoped>\n",
       "    .dataframe tbody tr th:only-of-type {\n",
       "        vertical-align: middle;\n",
       "    }\n",
       "\n",
       "    .dataframe tbody tr th {\n",
       "        vertical-align: top;\n",
       "    }\n",
       "\n",
       "    .dataframe thead th {\n",
       "        text-align: right;\n",
       "    }\n",
       "</style>\n",
       "<table border=\"1\" class=\"dataframe\">\n",
       "  <thead>\n",
       "    <tr style=\"text-align: right;\">\n",
       "      <th></th>\n",
       "      <th>unique_id</th>\n",
       "      <th>osmid</th>\n",
       "      <th>element_type</th>\n",
       "      <th>addr:city</th>\n",
       "      <th>addr:housename</th>\n",
       "      <th>addr:housenumber</th>\n",
       "      <th>addr:postcode</th>\n",
       "      <th>amenity</th>\n",
       "      <th>name</th>\n",
       "      <th>geometry</th>\n",
       "      <th>addr:street</th>\n",
       "      <th>opening_hours:signed</th>\n",
       "    </tr>\n",
       "  </thead>\n",
       "  <tbody>\n",
       "    <tr>\n",
       "      <th>0</th>\n",
       "      <td>node/2392653299</td>\n",
       "      <td>2392653299</td>\n",
       "      <td>node</td>\n",
       "      <td>KERICHO</td>\n",
       "      <td>QUICKSERVICE</td>\n",
       "      <td>P.O Box 1985</td>\n",
       "      <td>20200</td>\n",
       "      <td>restaurant</td>\n",
       "      <td>QUICKSERVICE RESTURANT KERICHO</td>\n",
       "      <td>POINT (35.28229 -0.37220)</td>\n",
       "      <td>NaN</td>\n",
       "      <td>NaN</td>\n",
       "    </tr>\n",
       "    <tr>\n",
       "      <th>1</th>\n",
       "      <td>node/7893551878</td>\n",
       "      <td>7893551878</td>\n",
       "      <td>node</td>\n",
       "      <td>Kericho</td>\n",
       "      <td>NaN</td>\n",
       "      <td>NaN</td>\n",
       "      <td>NaN</td>\n",
       "      <td>restaurant</td>\n",
       "      <td>Taidy's</td>\n",
       "      <td>POINT (35.27996 -0.37358)</td>\n",
       "      <td>Kericho-Kisumu Highway</td>\n",
       "      <td>NaN</td>\n",
       "    </tr>\n",
       "    <tr>\n",
       "      <th>2</th>\n",
       "      <td>node/7976569618</td>\n",
       "      <td>7976569618</td>\n",
       "      <td>node</td>\n",
       "      <td>NaN</td>\n",
       "      <td>NaN</td>\n",
       "      <td>NaN</td>\n",
       "      <td>NaN</td>\n",
       "      <td>restaurant</td>\n",
       "      <td>Saramek</td>\n",
       "      <td>POINT (35.29768 -0.36010)</td>\n",
       "      <td>Kericho-Kisumu Highway</td>\n",
       "      <td>NaN</td>\n",
       "    </tr>\n",
       "    <tr>\n",
       "      <th>3</th>\n",
       "      <td>node/7976569620</td>\n",
       "      <td>7976569620</td>\n",
       "      <td>node</td>\n",
       "      <td>Kericho</td>\n",
       "      <td>NaN</td>\n",
       "      <td>NaN</td>\n",
       "      <td>NaN</td>\n",
       "      <td>restaurant</td>\n",
       "      <td>Sahara Gardens</td>\n",
       "      <td>POINT (35.29532 -0.36544)</td>\n",
       "      <td>Kericho-Kisumu Highway</td>\n",
       "      <td>NaN</td>\n",
       "    </tr>\n",
       "    <tr>\n",
       "      <th>4</th>\n",
       "      <td>node/7976569622</td>\n",
       "      <td>7976569622</td>\n",
       "      <td>node</td>\n",
       "      <td>Kericho</td>\n",
       "      <td>NaN</td>\n",
       "      <td>NaN</td>\n",
       "      <td>NaN</td>\n",
       "      <td>restaurant</td>\n",
       "      <td>Famous Gate</td>\n",
       "      <td>POINT (35.28979 -0.36595)</td>\n",
       "      <td>Kericho-Kisumu Highway</td>\n",
       "      <td>NaN</td>\n",
       "    </tr>\n",
       "    <tr>\n",
       "      <th>5</th>\n",
       "      <td>node/7976569624</td>\n",
       "      <td>7976569624</td>\n",
       "      <td>node</td>\n",
       "      <td>Kericho</td>\n",
       "      <td>NaN</td>\n",
       "      <td>NaN</td>\n",
       "      <td>NaN</td>\n",
       "      <td>restaurant</td>\n",
       "      <td>Crescent Drive-in</td>\n",
       "      <td>POINT (35.28799 -0.36819)</td>\n",
       "      <td>Kericho-Kisumu Highway</td>\n",
       "      <td>no</td>\n",
       "    </tr>\n",
       "    <tr>\n",
       "      <th>6</th>\n",
       "      <td>node/7976569626</td>\n",
       "      <td>7976569626</td>\n",
       "      <td>node</td>\n",
       "      <td>Kericho</td>\n",
       "      <td>NaN</td>\n",
       "      <td>NaN</td>\n",
       "      <td>NaN</td>\n",
       "      <td>restaurant</td>\n",
       "      <td>Bridge Bar</td>\n",
       "      <td>POINT (35.26744 -0.37566)</td>\n",
       "      <td>Kericho-Kisumu Highway</td>\n",
       "      <td>no</td>\n",
       "    </tr>\n",
       "    <tr>\n",
       "      <th>7</th>\n",
       "      <td>node/7976569627</td>\n",
       "      <td>7976569627</td>\n",
       "      <td>node</td>\n",
       "      <td>Kericho</td>\n",
       "      <td>NaN</td>\n",
       "      <td>NaN</td>\n",
       "      <td>NaN</td>\n",
       "      <td>restaurant</td>\n",
       "      <td>Litney's</td>\n",
       "      <td>POINT (35.27419 -0.36387)</td>\n",
       "      <td>NaN</td>\n",
       "      <td>NaN</td>\n",
       "    </tr>\n",
       "    <tr>\n",
       "      <th>8</th>\n",
       "      <td>node/7976569628</td>\n",
       "      <td>7976569628</td>\n",
       "      <td>node</td>\n",
       "      <td>Kericho</td>\n",
       "      <td>NaN</td>\n",
       "      <td>NaN</td>\n",
       "      <td>NaN</td>\n",
       "      <td>restaurant</td>\n",
       "      <td>The Great Style</td>\n",
       "      <td>POINT (35.28573 -0.36859)</td>\n",
       "      <td>John Kerich Road</td>\n",
       "      <td>no</td>\n",
       "    </tr>\n",
       "    <tr>\n",
       "      <th>9</th>\n",
       "      <td>node/7976569630</td>\n",
       "      <td>7976569630</td>\n",
       "      <td>node</td>\n",
       "      <td>Kericho</td>\n",
       "      <td>NaN</td>\n",
       "      <td>NaN</td>\n",
       "      <td>NaN</td>\n",
       "      <td>restaurant</td>\n",
       "      <td>Java House</td>\n",
       "      <td>POINT (35.28704 -0.36855)</td>\n",
       "      <td>Kericho-Kisumu Highway</td>\n",
       "      <td>no</td>\n",
       "    </tr>\n",
       "    <tr>\n",
       "      <th>10</th>\n",
       "      <td>node/7977345308</td>\n",
       "      <td>7977345308</td>\n",
       "      <td>node</td>\n",
       "      <td>Kericho</td>\n",
       "      <td>NaN</td>\n",
       "      <td>NaN</td>\n",
       "      <td>NaN</td>\n",
       "      <td>restaurant</td>\n",
       "      <td>Roadside Villa</td>\n",
       "      <td>POINT (35.26699 -0.37605)</td>\n",
       "      <td>Kericho-Kisumu Highway</td>\n",
       "      <td>no</td>\n",
       "    </tr>\n",
       "  </tbody>\n",
       "</table>\n",
       "</div>"
      ],
      "text/plain": [
       "          unique_id       osmid element_type addr:city addr:housename  \\\n",
       "0   node/2392653299  2392653299         node   KERICHO   QUICKSERVICE   \n",
       "1   node/7893551878  7893551878         node   Kericho            NaN   \n",
       "2   node/7976569618  7976569618         node       NaN            NaN   \n",
       "3   node/7976569620  7976569620         node   Kericho            NaN   \n",
       "4   node/7976569622  7976569622         node   Kericho            NaN   \n",
       "5   node/7976569624  7976569624         node   Kericho            NaN   \n",
       "6   node/7976569626  7976569626         node   Kericho            NaN   \n",
       "7   node/7976569627  7976569627         node   Kericho            NaN   \n",
       "8   node/7976569628  7976569628         node   Kericho            NaN   \n",
       "9   node/7976569630  7976569630         node   Kericho            NaN   \n",
       "10  node/7977345308  7977345308         node   Kericho            NaN   \n",
       "\n",
       "   addr:housenumber addr:postcode     amenity                            name  \\\n",
       "0      P.O Box 1985         20200  restaurant  QUICKSERVICE RESTURANT KERICHO   \n",
       "1               NaN           NaN  restaurant                         Taidy's   \n",
       "2               NaN           NaN  restaurant                         Saramek   \n",
       "3               NaN           NaN  restaurant                  Sahara Gardens   \n",
       "4               NaN           NaN  restaurant                     Famous Gate   \n",
       "5               NaN           NaN  restaurant               Crescent Drive-in   \n",
       "6               NaN           NaN  restaurant                      Bridge Bar   \n",
       "7               NaN           NaN  restaurant                        Litney's   \n",
       "8               NaN           NaN  restaurant                 The Great Style   \n",
       "9               NaN           NaN  restaurant                      Java House   \n",
       "10              NaN           NaN  restaurant                  Roadside Villa   \n",
       "\n",
       "                     geometry             addr:street opening_hours:signed  \n",
       "0   POINT (35.28229 -0.37220)                     NaN                  NaN  \n",
       "1   POINT (35.27996 -0.37358)  Kericho-Kisumu Highway                  NaN  \n",
       "2   POINT (35.29768 -0.36010)  Kericho-Kisumu Highway                  NaN  \n",
       "3   POINT (35.29532 -0.36544)  Kericho-Kisumu Highway                  NaN  \n",
       "4   POINT (35.28979 -0.36595)  Kericho-Kisumu Highway                  NaN  \n",
       "5   POINT (35.28799 -0.36819)  Kericho-Kisumu Highway                   no  \n",
       "6   POINT (35.26744 -0.37566)  Kericho-Kisumu Highway                   no  \n",
       "7   POINT (35.27419 -0.36387)                     NaN                  NaN  \n",
       "8   POINT (35.28573 -0.36859)        John Kerich Road                   no  \n",
       "9   POINT (35.28704 -0.36855)  Kericho-Kisumu Highway                   no  \n",
       "10  POINT (35.26699 -0.37605)  Kericho-Kisumu Highway                   no  "
      ]
     },
     "execution_count": 6,
     "metadata": {},
     "output_type": "execute_result"
    }
   ],
   "source": [
    "#Convert the places to geodataframe\n",
    "gdf = leafmap.osm_gdf_from_place(\"Kericho\", tags={\"amenity\": \"restaurant\"})\n",
    "gdf"
   ]
  },
  {
   "cell_type": "markdown",
   "id": "444ef0ab",
   "metadata": {},
   "source": [
    "**From the Geodataframe we can see that there are several Missing attribute values in the osm data so to reduce the NOISE in the data we neeed to drop the NA Values as shown below**"
   ]
  },
  {
   "cell_type": "code",
   "execution_count": 7,
   "id": "3be3fa5b",
   "metadata": {},
   "outputs": [
    {
     "data": {
      "text/html": [
       "<div>\n",
       "<style scoped>\n",
       "    .dataframe tbody tr th:only-of-type {\n",
       "        vertical-align: middle;\n",
       "    }\n",
       "\n",
       "    .dataframe tbody tr th {\n",
       "        vertical-align: top;\n",
       "    }\n",
       "\n",
       "    .dataframe thead th {\n",
       "        text-align: right;\n",
       "    }\n",
       "</style>\n",
       "<table border=\"1\" class=\"dataframe\">\n",
       "  <thead>\n",
       "    <tr style=\"text-align: right;\">\n",
       "      <th></th>\n",
       "      <th>unique_id</th>\n",
       "      <th>osmid</th>\n",
       "      <th>element_type</th>\n",
       "      <th>amenity</th>\n",
       "      <th>name</th>\n",
       "      <th>geometry</th>\n",
       "    </tr>\n",
       "  </thead>\n",
       "  <tbody>\n",
       "    <tr>\n",
       "      <th>0</th>\n",
       "      <td>node/2392653299</td>\n",
       "      <td>2392653299</td>\n",
       "      <td>node</td>\n",
       "      <td>restaurant</td>\n",
       "      <td>QUICKSERVICE RESTURANT KERICHO</td>\n",
       "      <td>POINT (35.28229 -0.37220)</td>\n",
       "    </tr>\n",
       "    <tr>\n",
       "      <th>1</th>\n",
       "      <td>node/7893551878</td>\n",
       "      <td>7893551878</td>\n",
       "      <td>node</td>\n",
       "      <td>restaurant</td>\n",
       "      <td>Taidy's</td>\n",
       "      <td>POINT (35.27996 -0.37358)</td>\n",
       "    </tr>\n",
       "    <tr>\n",
       "      <th>2</th>\n",
       "      <td>node/7976569618</td>\n",
       "      <td>7976569618</td>\n",
       "      <td>node</td>\n",
       "      <td>restaurant</td>\n",
       "      <td>Saramek</td>\n",
       "      <td>POINT (35.29768 -0.36010)</td>\n",
       "    </tr>\n",
       "    <tr>\n",
       "      <th>3</th>\n",
       "      <td>node/7976569620</td>\n",
       "      <td>7976569620</td>\n",
       "      <td>node</td>\n",
       "      <td>restaurant</td>\n",
       "      <td>Sahara Gardens</td>\n",
       "      <td>POINT (35.29532 -0.36544)</td>\n",
       "    </tr>\n",
       "    <tr>\n",
       "      <th>4</th>\n",
       "      <td>node/7976569622</td>\n",
       "      <td>7976569622</td>\n",
       "      <td>node</td>\n",
       "      <td>restaurant</td>\n",
       "      <td>Famous Gate</td>\n",
       "      <td>POINT (35.28979 -0.36595)</td>\n",
       "    </tr>\n",
       "    <tr>\n",
       "      <th>5</th>\n",
       "      <td>node/7976569624</td>\n",
       "      <td>7976569624</td>\n",
       "      <td>node</td>\n",
       "      <td>restaurant</td>\n",
       "      <td>Crescent Drive-in</td>\n",
       "      <td>POINT (35.28799 -0.36819)</td>\n",
       "    </tr>\n",
       "    <tr>\n",
       "      <th>6</th>\n",
       "      <td>node/7976569626</td>\n",
       "      <td>7976569626</td>\n",
       "      <td>node</td>\n",
       "      <td>restaurant</td>\n",
       "      <td>Bridge Bar</td>\n",
       "      <td>POINT (35.26744 -0.37566)</td>\n",
       "    </tr>\n",
       "    <tr>\n",
       "      <th>7</th>\n",
       "      <td>node/7976569627</td>\n",
       "      <td>7976569627</td>\n",
       "      <td>node</td>\n",
       "      <td>restaurant</td>\n",
       "      <td>Litney's</td>\n",
       "      <td>POINT (35.27419 -0.36387)</td>\n",
       "    </tr>\n",
       "    <tr>\n",
       "      <th>8</th>\n",
       "      <td>node/7976569628</td>\n",
       "      <td>7976569628</td>\n",
       "      <td>node</td>\n",
       "      <td>restaurant</td>\n",
       "      <td>The Great Style</td>\n",
       "      <td>POINT (35.28573 -0.36859)</td>\n",
       "    </tr>\n",
       "    <tr>\n",
       "      <th>9</th>\n",
       "      <td>node/7976569630</td>\n",
       "      <td>7976569630</td>\n",
       "      <td>node</td>\n",
       "      <td>restaurant</td>\n",
       "      <td>Java House</td>\n",
       "      <td>POINT (35.28704 -0.36855)</td>\n",
       "    </tr>\n",
       "    <tr>\n",
       "      <th>10</th>\n",
       "      <td>node/7977345308</td>\n",
       "      <td>7977345308</td>\n",
       "      <td>node</td>\n",
       "      <td>restaurant</td>\n",
       "      <td>Roadside Villa</td>\n",
       "      <td>POINT (35.26699 -0.37605)</td>\n",
       "    </tr>\n",
       "  </tbody>\n",
       "</table>\n",
       "</div>"
      ],
      "text/plain": [
       "          unique_id       osmid element_type     amenity  \\\n",
       "0   node/2392653299  2392653299         node  restaurant   \n",
       "1   node/7893551878  7893551878         node  restaurant   \n",
       "2   node/7976569618  7976569618         node  restaurant   \n",
       "3   node/7976569620  7976569620         node  restaurant   \n",
       "4   node/7976569622  7976569622         node  restaurant   \n",
       "5   node/7976569624  7976569624         node  restaurant   \n",
       "6   node/7976569626  7976569626         node  restaurant   \n",
       "7   node/7976569627  7976569627         node  restaurant   \n",
       "8   node/7976569628  7976569628         node  restaurant   \n",
       "9   node/7976569630  7976569630         node  restaurant   \n",
       "10  node/7977345308  7977345308         node  restaurant   \n",
       "\n",
       "                              name                   geometry  \n",
       "0   QUICKSERVICE RESTURANT KERICHO  POINT (35.28229 -0.37220)  \n",
       "1                          Taidy's  POINT (35.27996 -0.37358)  \n",
       "2                          Saramek  POINT (35.29768 -0.36010)  \n",
       "3                   Sahara Gardens  POINT (35.29532 -0.36544)  \n",
       "4                      Famous Gate  POINT (35.28979 -0.36595)  \n",
       "5                Crescent Drive-in  POINT (35.28799 -0.36819)  \n",
       "6                       Bridge Bar  POINT (35.26744 -0.37566)  \n",
       "7                         Litney's  POINT (35.27419 -0.36387)  \n",
       "8                  The Great Style  POINT (35.28573 -0.36859)  \n",
       "9                       Java House  POINT (35.28704 -0.36855)  \n",
       "10                  Roadside Villa  POINT (35.26699 -0.37605)  "
      ]
     },
     "execution_count": 7,
     "metadata": {},
     "output_type": "execute_result"
    }
   ],
   "source": [
    "gdf = gdf.dropna(how='any',axis=1) \n",
    "gdf"
   ]
  },
  {
   "cell_type": "markdown",
   "id": "0d2bb533",
   "metadata": {},
   "source": [
    "our geodataframe is now ready for dispaly or export for further analysis"
   ]
  },
  {
   "cell_type": "code",
   "execution_count": 8,
   "id": "a1dd0106",
   "metadata": {},
   "outputs": [
    {
     "name": "stderr",
     "output_type": "stream",
     "text": [
      "C:\\Users\\Koros\\anaconda3\\envs\\KGIS\\lib\\site-packages\\geopandas\\plotting.py:71: DeprecationWarning: distutils Version classes are deprecated. Use packaging.version instead.\n",
      "  if mpl >= LooseVersion(\"3.4\") or (mpl > LooseVersion(\"3.3.2\") and \"+\" in mpl):\n",
      "C:\\Users\\Koros\\anaconda3\\envs\\KGIS\\lib\\site-packages\\setuptools\\_distutils\\version.py:351: DeprecationWarning: distutils Version classes are deprecated. Use packaging.version instead.\n",
      "  other = LooseVersion(other)\n"
     ]
    },
    {
     "data": {
      "text/plain": [
       "<AxesSubplot:>"
      ]
     },
     "execution_count": 8,
     "metadata": {},
     "output_type": "execute_result"
    },
    {
     "data": {
      "image/png": "[encoded data removed]",
      "text/plain": [
       "<Figure size 432x288 with 1 Axes>"
      ]
     },
     "metadata": {
      "needs_background": "light"
     },
     "output_type": "display_data"
    }
   ],
   "source": [
    "# First we need to set the Coordinate Referencing System \n",
    "gdf = gdf.to_crs(epsg=3857)# WGS 84 / Pseudo-Mercator -- Spherical Mercator, Google Maps, OpenStreetMap, Bing, ArcGIS, ESRI\n",
    "gdf.plot()"
   ]
  },
  {
   "cell_type": "markdown",
   "id": "7065844d",
   "metadata": {},
   "source": [
    "#### Export the Geodataframe to shapefile"
   ]
  },
  {
   "cell_type": "code",
   "execution_count": 9,
   "id": "75793aa4",
   "metadata": {},
   "outputs": [
    {
     "name": "stderr",
     "output_type": "stream",
     "text": [
      "C:\\Users\\Koros\\anaconda3\\envs\\KGIS\\lib\\site-packages\\geopandas\\io\\file.py:299: FutureWarning: pandas.Int64Index is deprecated and will be removed from pandas in a future version. Use pandas.Index with the appropriate dtype instead.\n",
      "  pd.Int64Index,\n",
      "C:\\Users\\Koros\\AppData\\Local\\Temp\\ipykernel_2184\\2725299995.py:1: UserWarning: Column names longer than 10 characters will be truncated when saved to ESRI Shapefile.\n",
      "  gdf.to_file('KerichoRestaurants.shp')\n",
      "C:\\Users\\Koros\\anaconda3\\envs\\KGIS\\lib\\site-packages\\geopandas\\io\\file.py:323: DeprecationWarning: distutils Version classes are deprecated. Use packaging.version instead.\n",
      "  if LooseVersion(gdal_version) >= LooseVersion(\"3.0.0\") and crs:\n"
     ]
    }
   ],
   "source": [
    "gdf.to_file('KerichoRestaurants.shp') "
   ]
  },
  {
   "cell_type": "markdown",
   "id": "06738f18",
   "metadata": {},
   "source": [
    "### Import back the Shapefiles  and try to plot"
   ]
  },
  {
   "cell_type": "code",
   "execution_count": 10,
   "id": "a6dbee45",
   "metadata": {},
   "outputs": [
    {
     "name": "stderr",
     "output_type": "stream",
     "text": [
      "C:\\Users\\Koros\\anaconda3\\envs\\KGIS\\lib\\site-packages\\geopandas\\plotting.py:71: DeprecationWarning: distutils Version classes are deprecated. Use packaging.version instead.\n",
      "  if mpl >= LooseVersion(\"3.4\") or (mpl > LooseVersion(\"3.3.2\") and \"+\" in mpl):\n",
      "C:\\Users\\Koros\\anaconda3\\envs\\KGIS\\lib\\site-packages\\setuptools\\_distutils\\version.py:351: DeprecationWarning: distutils Version classes are deprecated. Use packaging.version instead.\n",
      "  other = LooseVersion(other)\n"
     ]
    },
    {
     "data": {
      "text/plain": [
       "<AxesSubplot:>"
      ]
     },
     "execution_count": 10,
     "metadata": {},
     "output_type": "execute_result"
    },
    {
     "data": {
      "image/png": "[encoded data removed]",
      "text/plain": [
       "<Figure size 432x288 with 1 Axes>"
      ]
     },
     "metadata": {
      "needs_background": "light"
     },
     "output_type": "display_data"
    }
   ],
   "source": [
    "import geopandas as gpd\n",
    "shp = gpd.read_file('KerichoRestaurants.shp')\n",
    "shp.plot(column='name')"
   ]
  },
  {
   "cell_type": "code",
   "execution_count": 11,
   "id": "a9b7c1c3",
   "metadata": {},
   "outputs": [
    {
     "name": "stderr",
     "output_type": "stream",
     "text": [
      "C:\\Users\\Koros\\anaconda3\\envs\\KGIS\\lib\\site-packages\\geopandas\\plotting.py:71: DeprecationWarning: distutils Version classes are deprecated. Use packaging.version instead.\n",
      "  if mpl >= LooseVersion(\"3.4\") or (mpl > LooseVersion(\"3.3.2\") and \"+\" in mpl):\n",
      "C:\\Users\\Koros\\anaconda3\\envs\\KGIS\\lib\\site-packages\\setuptools\\_distutils\\version.py:351: DeprecationWarning: distutils Version classes are deprecated. Use packaging.version instead.\n",
      "  other = LooseVersion(other)\n"
     ]
    },
    {
     "data": {
      "text/plain": [
       "<AxesSubplot:>"
      ]
     },
     "execution_count": 11,
     "metadata": {},
     "output_type": "execute_result"
    },
    {
     "data": {
      "image/png": "[encoded data removed]",
      "text/plain": [
       "<Figure size 1080x720 with 1 Axes>"
      ]
     },
     "metadata": {
      "needs_background": "light"
     },
     "output_type": "display_data"
    }
   ],
   "source": [
    "# Import matplotlib for better visualization\n",
    "import matplotlib.pyplot as plt\n",
    "\n",
    "shp.plot(column='name', legend=True,figsize=(15, 10))"
   ]
  },
  {
   "cell_type": "markdown",
   "id": "de122120",
   "metadata": {},
   "source": [
    "## Thats All!!!! \n",
    "\n",
    "### You can Find More of this in my Github Repo [Hillary Koros](https://github.com/HillaryKoros)"
   ]
  },
  {
   "cell_type": "code",
   "execution_count": null,
   "id": "6d484336",
   "metadata": {},
   "outputs": [],
   "source": []
  }
 ],
 "metadata": {
  "kernelspec": {
   "display_name": "Python 3 (ipykernel)",
   "language": "python",
   "name": "python3"
  },
  "language_info": {
   "codemirror_mode": {
    "name": "ipython",
    "version": 3
   },
   "file_extension": ".py",
   "mimetype": "text/x-python",
   "name": "python",
   "nbconvert_exporter": "python",
   "pygments_lexer": "ipython3",
   "version": "3.9.10"
  }
 },
 "nbformat": 4,
 "nbformat_minor": 5
}
